{
 "cells": [
  {
   "cell_type": "code",
   "execution_count": 67,
   "outputs": [],
   "source": [
    "import ast\n",
    "import os.path\n",
    "\n",
    "import pandas as pd"
   ],
   "metadata": {
    "collapsed": false,
    "pycharm": {
     "name": "#%%\n"
    }
   }
  },
  {
   "cell_type": "code",
   "execution_count": 68,
   "outputs": [],
   "source": [
    "EXPERIMENT_RESULT_DIR = \"C:\\\\Users\\\\MarianLambert\\\\OneDrive - mail.uni-mannheim.de\\\\02 - Studium\\\\04 - Semester 4\\\\Thesis\\\\Ergebnisse\\\\\""
   ],
   "metadata": {
    "collapsed": false,
    "pycharm": {
     "name": "#%%\n"
    }
   }
  },
  {
   "cell_type": "code",
   "execution_count": 69,
   "outputs": [],
   "source": [
    "performance_results = pd.read_csv(os.path.join(EXPERIMENT_RESULT_DIR, 'performance_comparison.csv'), index_col=0)"
   ],
   "metadata": {
    "collapsed": false,
    "pycharm": {
     "name": "#%%\n"
    }
   }
  },
  {
   "cell_type": "code",
   "execution_count": 70,
   "outputs": [],
   "source": [
    "xception_results = pd.read_csv(os.path.join(EXPERIMENT_RESULT_DIR, 'imagenet', 'xception', 'report.csv'), index_col=0)\n",
    "resnet_results = pd.read_csv(os.path.join(EXPERIMENT_RESULT_DIR, 'imagenet', 'inceptionresnet', 'report.csv'),\n",
    "                             index_col=0)\n",
    "mobilenetv2_results = pd.read_csv(os.path.join(EXPERIMENT_RESULT_DIR, 'imagenet', 'mobilenetv2', 'report.csv'),\n",
    "                                  index_col=0)\n",
    "speaker_recognition = pd.read_csv(os.path.join(EXPERIMENT_RESULT_DIR, 'speaker_recognition', 'report.csv'),\n",
    "                                  index_col=0)\n",
    "sentiment_analysis = pd.read_csv(os.path.join(EXPERIMENT_RESULT_DIR, 'sentiment_analysis', 'report.csv'),\n",
    "                                 index_col=0)"
   ],
   "metadata": {
    "collapsed": false,
    "pycharm": {
     "name": "#%%\n"
    }
   }
  },
  {
   "cell_type": "code",
   "execution_count": 71,
   "outputs": [],
   "source": [
    "sensitivity_xception_results = pd.read_csv(os.path.join(EXPERIMENT_RESULT_DIR, 'sensitivity', 'xception', 'report.csv'),\n",
    "                                           index_col=0)\n",
    "sensitivity_resnet_results = pd.read_csv(\n",
    "    os.path.join(EXPERIMENT_RESULT_DIR, 'sensitivity', 'inceptionresnet', 'report.csv'),\n",
    "    index_col=0)\n",
    "sensitivity_mobilenetv2_results = pd.read_csv(\n",
    "    os.path.join(EXPERIMENT_RESULT_DIR, 'sensitivity', 'mobilenetv2', 'report.csv'),\n",
    "    index_col=0)\n",
    "sensitivity_speaker_recognition = pd.read_csv(\n",
    "    os.path.join(EXPERIMENT_RESULT_DIR, 'sensitivity', 'speaker_recognition', 'report.csv'),\n",
    "    index_col=0)\n",
    "sensitivity_sentiment_analysis = pd.read_csv(\n",
    "    os.path.join(EXPERIMENT_RESULT_DIR, 'sensitivity', 'sentiment_analysis', 'report.csv'),\n",
    "    index_col=0)"
   ],
   "metadata": {
    "collapsed": false,
    "pycharm": {
     "name": "#%%\n"
    }
   }
  },
  {
   "cell_type": "markdown",
   "source": [],
   "metadata": {
    "collapsed": false,
    "pycharm": {
     "name": "#%% md\n"
    }
   }
  },
  {
   "cell_type": "code",
   "execution_count": 72,
   "outputs": [],
   "source": [
    "results = {'MobileNetV2': mobilenetv2_results, 'XCeption': xception_results, 'Speaker Recognition': speaker_recognition,\n",
    "           'Sentiment Analysis': sentiment_analysis, 'InceptionResnet': resnet_results}"
   ],
   "metadata": {
    "collapsed": false,
    "pycharm": {
     "name": "#%%\n"
    }
   }
  },
  {
   "cell_type": "code",
   "execution_count": 73,
   "outputs": [],
   "source": [
    "sensitivity_results = {'MobileNetV2': sensitivity_mobilenetv2_results, 'XCeption': sensitivity_xception_results,\n",
    "                       'Speaker Recognition': sensitivity_speaker_recognition,\n",
    "                       'Sentiment Analysis': sensitivity_sentiment_analysis,\n",
    "                       'InceptionResnet': sensitivity_resnet_results}"
   ],
   "metadata": {
    "collapsed": false,
    "pycharm": {
     "name": "#%%\n"
    }
   }
  },
  {
   "cell_type": "code",
   "execution_count": 74,
   "outputs": [],
   "source": [
    "coverage_to_metric_mapping = {\n",
    "    'NeuronCoverageCalculator': 'covered_neurons_percentage',\n",
    "    'StrongNeuronActivationCoverageCalculator': 'covered_neurons_percentage',\n",
    "    'KMultiSectionNeuronCoverageCalculator': 'covered_neurons_percentage',\n",
    "    'NeuronBoundaryCoverageCalculator': 'covered_neurons_percentage',\n",
    "    'TopKNeuronCoverageCalculator': 'top_k_neuron_coverage_percentage',\n",
    "    'TopKNeuronPatternsCalculator': 'total_patterns'\n",
    "}"
   ],
   "metadata": {
    "collapsed": false,
    "pycharm": {
     "name": "#%%\n"
    }
   }
  },
  {
   "cell_type": "code",
   "execution_count": 75,
   "outputs": [],
   "source": [
    "for calculator, key in coverage_to_metric_mapping.items():\n",
    "    for result in results.values():\n",
    "        if calculator in result.columns:\n",
    "            result[calculator] = result[calculator].map(lambda entry: ast.literal_eval(entry)[key])"
   ],
   "metadata": {
    "collapsed": false,
    "pycharm": {
     "name": "#%%\n"
    }
   }
  },
  {
   "cell_type": "code",
   "execution_count": 76,
   "outputs": [
    {
     "data": {
      "text/plain": "                                  acc  macro_f1  macro_rec  macro_prec  \\\nOriginal                     0.663875  0.657287   0.664441    0.684007   \nImageNoisePerturbator        0.595000  0.588106   0.594955    0.630430   \nImageBrightnessPerturbator   0.628750  0.628839   0.629061    0.665702   \nImageContrastPerturbator     0.636250  0.629984   0.636683    0.660887   \nImageSharpnessPerturbator    0.663500  0.657395   0.663943    0.685090   \nImageFlipPerturbator         0.665375  0.660148   0.665467    0.688921   \nImageOcclusionPerturbator    0.144375  0.164187   0.142995    0.337937   \nImageCompressionPerturbator  0.613000  0.607416   0.613395    0.649341   \nImagePixelizePerturbator     0.637625  0.631276   0.637125    0.664430   \nAll                          0.583083  0.580515   0.583118    0.629638   \n\n                             micro_f1  micro_rec  micro_prec  \\\nOriginal                     0.660075   0.663875    0.690003   \nImageNoisePerturbator        0.591178   0.595000    0.636535   \nImageBrightnessPerturbator   0.631464   0.628750    0.671328   \nImageContrastPerturbator     0.632774   0.636250    0.666784   \nImageSharpnessPerturbator    0.660213   0.663500    0.690997   \nImageFlipPerturbator         0.662994   0.665375    0.694323   \nImageOcclusionPerturbator    0.165945   0.144375    0.342323   \nImageCompressionPerturbator  0.610002   0.613000    0.654595   \nImagePixelizePerturbator     0.634397   0.637625    0.669738   \nAll                          0.583227   0.583083    0.635181   \n\n                             NeuronCoverageCalculator  \\\nOriginal                                     0.991624   \nImageNoisePerturbator                        0.991859   \nImageBrightnessPerturbator                   0.992245   \nImageContrastPerturbator                     0.992575   \nImageSharpnessPerturbator                    0.991878   \nImageFlipPerturbator                         0.992438   \nImageOcclusionPerturbator                    0.993205   \nImageCompressionPerturbator                  0.992036   \nImagePixelizePerturbator                     0.991840   \nAll                                          0.994074   \n\n                             StrongNeuronActivationCoverageCalculator  \\\nOriginal                                                     0.807082   \nImageNoisePerturbator                                        0.842350   \nImageBrightnessPerturbator                                   0.867758   \nImageContrastPerturbator                                     0.882491   \nImageSharpnessPerturbator                                    0.835839   \nImageFlipPerturbator                                         0.889942   \nImageOcclusionPerturbator                                    0.895093   \nImageCompressionPerturbator                                  0.841513   \nImagePixelizePerturbator                                     0.828798   \nAll                                                          0.958267   \n\n                             KMultiSectionNeuronCoverageCalculator  \\\nOriginal                                                  0.997112   \nImageNoisePerturbator                                     0.997748   \nImageBrightnessPerturbator                                0.997798   \nImageContrastPerturbator                                  0.997874   \nImageSharpnessPerturbator                                 0.997471   \nImageFlipPerturbator                                      0.998327   \nImageOcclusionPerturbator                                 0.997896   \nImageCompressionPerturbator                               0.997776   \nImagePixelizePerturbator                                  0.997634   \nAll                                                       0.998811   \n\n                             NeuronBoundaryCoverageCalculator  \\\nOriginal                                             0.493564   \nImageNoisePerturbator                                0.534259   \nImageBrightnessPerturbator                           0.575957   \nImageContrastPerturbator                             0.597591   \nImageSharpnessPerturbator                            0.530363   \nImageFlipPerturbator                                 0.599072   \nImageOcclusionPerturbator                            0.611974   \nImageCompressionPerturbator                          0.534552   \nImagePixelizePerturbator                             0.519575   \nAll                                                  0.698143   \n\n                             TopKNeuronCoverageCalculator  \\\nOriginal                                         0.022850   \nImageNoisePerturbator                            0.031118   \nImageBrightnessPerturbator                       0.027947   \nImageContrastPerturbator                         0.027693   \nImageSharpnessPerturbator                        0.025764   \nImageFlipPerturbator                             0.037291   \nImageOcclusionPerturbator                        0.035941   \nImageCompressionPerturbator                      0.031314   \nImagePixelizePerturbator                         0.030350   \nAll                                              0.066509   \n\n                             TopKNeuronPatternsCalculator  \nOriginal                                             8000  \nImageNoisePerturbator                               15812  \nImageBrightnessPerturbator                          15781  \nImageContrastPerturbator                            16000  \nImageSharpnessPerturbator                           16000  \nImageFlipPerturbator                                16000  \nImageOcclusionPerturbator                           16000  \nImageCompressionPerturbator                         16000  \nImagePixelizePerturbator                            15982  \nAll                                                 71575  ",
      "text/html": "<div>\n<style scoped>\n    .dataframe tbody tr th:only-of-type {\n        vertical-align: middle;\n    }\n\n    .dataframe tbody tr th {\n        vertical-align: top;\n    }\n\n    .dataframe thead th {\n        text-align: right;\n    }\n</style>\n<table border=\"1\" class=\"dataframe\">\n  <thead>\n    <tr style=\"text-align: right;\">\n      <th></th>\n      <th>acc</th>\n      <th>macro_f1</th>\n      <th>macro_rec</th>\n      <th>macro_prec</th>\n      <th>micro_f1</th>\n      <th>micro_rec</th>\n      <th>micro_prec</th>\n      <th>NeuronCoverageCalculator</th>\n      <th>StrongNeuronActivationCoverageCalculator</th>\n      <th>KMultiSectionNeuronCoverageCalculator</th>\n      <th>NeuronBoundaryCoverageCalculator</th>\n      <th>TopKNeuronCoverageCalculator</th>\n      <th>TopKNeuronPatternsCalculator</th>\n    </tr>\n  </thead>\n  <tbody>\n    <tr>\n      <th>Original</th>\n      <td>0.663875</td>\n      <td>0.657287</td>\n      <td>0.664441</td>\n      <td>0.684007</td>\n      <td>0.660075</td>\n      <td>0.663875</td>\n      <td>0.690003</td>\n      <td>0.991624</td>\n      <td>0.807082</td>\n      <td>0.997112</td>\n      <td>0.493564</td>\n      <td>0.022850</td>\n      <td>8000</td>\n    </tr>\n    <tr>\n      <th>ImageNoisePerturbator</th>\n      <td>0.595000</td>\n      <td>0.588106</td>\n      <td>0.594955</td>\n      <td>0.630430</td>\n      <td>0.591178</td>\n      <td>0.595000</td>\n      <td>0.636535</td>\n      <td>0.991859</td>\n      <td>0.842350</td>\n      <td>0.997748</td>\n      <td>0.534259</td>\n      <td>0.031118</td>\n      <td>15812</td>\n    </tr>\n    <tr>\n      <th>ImageBrightnessPerturbator</th>\n      <td>0.628750</td>\n      <td>0.628839</td>\n      <td>0.629061</td>\n      <td>0.665702</td>\n      <td>0.631464</td>\n      <td>0.628750</td>\n      <td>0.671328</td>\n      <td>0.992245</td>\n      <td>0.867758</td>\n      <td>0.997798</td>\n      <td>0.575957</td>\n      <td>0.027947</td>\n      <td>15781</td>\n    </tr>\n    <tr>\n      <th>ImageContrastPerturbator</th>\n      <td>0.636250</td>\n      <td>0.629984</td>\n      <td>0.636683</td>\n      <td>0.660887</td>\n      <td>0.632774</td>\n      <td>0.636250</td>\n      <td>0.666784</td>\n      <td>0.992575</td>\n      <td>0.882491</td>\n      <td>0.997874</td>\n      <td>0.597591</td>\n      <td>0.027693</td>\n      <td>16000</td>\n    </tr>\n    <tr>\n      <th>ImageSharpnessPerturbator</th>\n      <td>0.663500</td>\n      <td>0.657395</td>\n      <td>0.663943</td>\n      <td>0.685090</td>\n      <td>0.660213</td>\n      <td>0.663500</td>\n      <td>0.690997</td>\n      <td>0.991878</td>\n      <td>0.835839</td>\n      <td>0.997471</td>\n      <td>0.530363</td>\n      <td>0.025764</td>\n      <td>16000</td>\n    </tr>\n    <tr>\n      <th>ImageFlipPerturbator</th>\n      <td>0.665375</td>\n      <td>0.660148</td>\n      <td>0.665467</td>\n      <td>0.688921</td>\n      <td>0.662994</td>\n      <td>0.665375</td>\n      <td>0.694323</td>\n      <td>0.992438</td>\n      <td>0.889942</td>\n      <td>0.998327</td>\n      <td>0.599072</td>\n      <td>0.037291</td>\n      <td>16000</td>\n    </tr>\n    <tr>\n      <th>ImageOcclusionPerturbator</th>\n      <td>0.144375</td>\n      <td>0.164187</td>\n      <td>0.142995</td>\n      <td>0.337937</td>\n      <td>0.165945</td>\n      <td>0.144375</td>\n      <td>0.342323</td>\n      <td>0.993205</td>\n      <td>0.895093</td>\n      <td>0.997896</td>\n      <td>0.611974</td>\n      <td>0.035941</td>\n      <td>16000</td>\n    </tr>\n    <tr>\n      <th>ImageCompressionPerturbator</th>\n      <td>0.613000</td>\n      <td>0.607416</td>\n      <td>0.613395</td>\n      <td>0.649341</td>\n      <td>0.610002</td>\n      <td>0.613000</td>\n      <td>0.654595</td>\n      <td>0.992036</td>\n      <td>0.841513</td>\n      <td>0.997776</td>\n      <td>0.534552</td>\n      <td>0.031314</td>\n      <td>16000</td>\n    </tr>\n    <tr>\n      <th>ImagePixelizePerturbator</th>\n      <td>0.637625</td>\n      <td>0.631276</td>\n      <td>0.637125</td>\n      <td>0.664430</td>\n      <td>0.634397</td>\n      <td>0.637625</td>\n      <td>0.669738</td>\n      <td>0.991840</td>\n      <td>0.828798</td>\n      <td>0.997634</td>\n      <td>0.519575</td>\n      <td>0.030350</td>\n      <td>15982</td>\n    </tr>\n    <tr>\n      <th>All</th>\n      <td>0.583083</td>\n      <td>0.580515</td>\n      <td>0.583118</td>\n      <td>0.629638</td>\n      <td>0.583227</td>\n      <td>0.583083</td>\n      <td>0.635181</td>\n      <td>0.994074</td>\n      <td>0.958267</td>\n      <td>0.998811</td>\n      <td>0.698143</td>\n      <td>0.066509</td>\n      <td>71575</td>\n    </tr>\n  </tbody>\n</table>\n</div>"
     },
     "execution_count": 76,
     "metadata": {},
     "output_type": "execute_result"
    }
   ],
   "source": [
    "results['XCeption']"
   ],
   "metadata": {
    "collapsed": false,
    "pycharm": {
     "name": "#%%\n"
    }
   }
  },
  {
   "cell_type": "code",
   "execution_count": 77,
   "outputs": [],
   "source": [
    "index_description_mapping = {\n",
    "    'Original': 'Seed',\n",
    "    'ImageNoisePerturbator': 'Noise',\n",
    "    'ImageBrightnessPerturbator': 'Brightness',\n",
    "    'ImageContrastPerturbator': 'Contrast',\n",
    "    'ImageSharpnessPerturbator': 'Sharpness',\n",
    "    'ImageFlipPerturbator': 'Flip',\n",
    "    'ImageOcclusionPerturbator': 'Occlusion',\n",
    "    'ImageCompressionPerturbator': 'Compression',\n",
    "    'ImagePixelizePerturbator': 'Pixelize',\n",
    "    'TextTypoPerturbator': 'Typo',\n",
    "    'TextCasePerturbator': 'Case',\n",
    "    'TextWordRemovalPerturbator': 'Word Removal',\n",
    "    'TextStopWordRemovalPerturbator': 'Stopword Removal',\n",
    "    'TextWordSwitchPerturbator': 'Word Switch',\n",
    "    'TextCharacterSwitchPerturbator': 'Character Switch',\n",
    "    'TextPunctuationErrorPerturbator': 'Punctuation Error',\n",
    "    'AudioBackgroundWhiteNoisePerturbator': 'White Noise',\n",
    "    'AudioCompressionPerturbator': 'Compression',\n",
    "    'AudioPitchPerturbator': 'Pitch',\n",
    "    'AudioClippingPerturbator': 'Clipping',\n",
    "    'AudioVolumePerturbator': 'Volume',\n",
    "    'AudioEchoPerturbator': 'Echo',\n",
    "    'AudioShortNoisePerturbator': 'Short Noise',\n",
    "    'AudioBackgroundNoisePerturbator': 'Background Noise',\n",
    "    'AudioImpulseResponsePerturbator': 'Impulse Response',\n",
    "    'All': 'Combined'\n",
    "}"
   ],
   "metadata": {
    "collapsed": false,
    "pycharm": {
     "name": "#%%\n"
    }
   }
  },
  {
   "cell_type": "code",
   "execution_count": 78,
   "outputs": [],
   "source": [
    "results = {k: result.rename(index=index_description_mapping) for k, result in results.items()}"
   ],
   "metadata": {
    "collapsed": false,
    "pycharm": {
     "name": "#%%\n"
    }
   }
  },
  {
   "cell_type": "code",
   "execution_count": 79,
   "outputs": [],
   "source": [
    "column_description_mapping = {\n",
    "    'acc': 'Accuracy',\n",
    "    'macro_f1': 'F1 (Macro)',\n",
    "    'macro_rec': 'Recall (Macro)',\n",
    "    'macro_prec': 'Precision (Macro)',\n",
    "    'micro_f1': 'F1 (Micro)',\n",
    "    'micro_rec': 'Recall (Micro)',\n",
    "    'micro_prec': 'Precision (Micro)',\n",
    "    'NeuronCoverageCalculator': 'NC',\n",
    "    'StrongNeuronActivationCoverageCalculator': 'SNAC',\n",
    "    'KMultiSectionNeuronCoverageCalculator': 'KMNC',\n",
    "    'NeuronBoundaryCoverageCalculator': 'NBC',\n",
    "    'TopKNeuronCoverageCalculator': 'TKNC',\n",
    "    'TopKNeuronPatternsCalculator': 'TKNP',\n",
    "    'args': 'Parameter'\n",
    "}"
   ],
   "metadata": {
    "collapsed": false,
    "pycharm": {
     "name": "#%%\n"
    }
   }
  },
  {
   "cell_type": "code",
   "execution_count": 80,
   "outputs": [],
   "source": [
    "results = {k: result.rename(columns=column_description_mapping) for k, result in results.items()}"
   ],
   "metadata": {
    "collapsed": false,
    "pycharm": {
     "name": "#%%\n"
    }
   }
  },
  {
   "cell_type": "code",
   "execution_count": 81,
   "outputs": [
    {
     "data": {
      "text/plain": "<Figure size 432x288 with 0 Axes>"
     },
     "metadata": {},
     "output_type": "display_data"
    }
   ],
   "source": [
    "import pandas as pd\n",
    "import matplotlib\n",
    "import matplotlib.pyplot as plt\n",
    "\n",
    "matplotlib.use(\"pgf\")\n",
    "matplotlib.rcParams.update({\n",
    "    \"pgf.texsystem\": \"pdflatex\",\n",
    "    'font.family': 'serif',\n",
    "    'text.usetex': True,\n",
    "    'pgf.rcfonts': False,\n",
    "})\n",
    "plt.tight_layout()"
   ],
   "metadata": {
    "collapsed": false,
    "pycharm": {
     "name": "#%%\n"
    }
   }
  },
  {
   "cell_type": "code",
   "execution_count": 82,
   "outputs": [
    {
     "data": {
      "text/plain": "<Figure size 432x288 with 1 Axes>",
      "image/png": "[encoded data removed]"
     },
     "metadata": {
      "needs_background": "light"
     },
     "output_type": "display_data"
    }
   ],
   "source": [
    "ax = pd.concat({k: v for k, v in results.items() if k in ['XCeption', 'InceptionResnet', 'MobileNetV2']}, axis=1).plot(\n",
    "    y=[('XCeption', 'Accuracy'), ('InceptionResnet', 'Accuracy'), ('MobileNetV2', 'Accuracy')], kind='bar')\n",
    "plt.legend(['XCeption', 'InceptionResnet', 'MobileNetV2'], loc='lower left')\n",
    "plt.xticks(rotation=45)\n",
    "ax.figure.savefig('output/imagenet_performance.pgf', bbox_inches='tight')"
   ],
   "metadata": {
    "collapsed": false,
    "pycharm": {
     "name": "#%%\n"
    }
   }
  },
  {
   "cell_type": "code",
   "execution_count": 83,
   "outputs": [
    {
     "data": {
      "text/plain": "<Figure size 432x288 with 1 Axes>",
      "image/png": "[encoded data removed]"
     },
     "metadata": {
      "needs_background": "light"
     },
     "output_type": "display_data"
    }
   ],
   "source": [
    "ax = pd.concat({k: v for k, v in results.items() if k in ['XCeption', 'InceptionResnet', 'MobileNetV2']}, axis=1).plot(\n",
    "    y=[('XCeption', 'SNAC'), ('InceptionResnet', 'SNAC'), ('MobileNetV2', 'SNAC')], kind='bar')\n",
    "plt.legend(['XCeption', 'InceptionResnet', 'MobileNetV2'], loc='lower right')\n",
    "plt.xticks(rotation=45)\n",
    "ax.figure.savefig('output/imagenet_coverage.pgf', bbox_inches='tight')"
   ],
   "metadata": {
    "collapsed": false,
    "pycharm": {
     "name": "#%%\n"
    }
   }
  },
  {
   "cell_type": "code",
   "execution_count": 84,
   "outputs": [
    {
     "data": {
      "text/plain": "<Figure size 432x288 with 1 Axes>",
      "image/png": "[encoded data removed]"
     },
     "metadata": {
      "needs_background": "light"
     },
     "output_type": "display_data"
    }
   ],
   "source": [
    "ax = results['Speaker Recognition'].plot(\n",
    "    y=['Accuracy', 'SNAC'], kind='bar')\n",
    "plt.legend(loc='upper left')\n",
    "plt.xticks(rotation=45)\n",
    "ax.figure.savefig('output/speaker_recognition_performance.pgf', bbox_inches='tight')"
   ],
   "metadata": {
    "collapsed": false,
    "pycharm": {
     "name": "#%%\n"
    }
   }
  },
  {
   "cell_type": "code",
   "execution_count": 85,
   "outputs": [
    {
     "data": {
      "text/plain": "<Figure size 432x288 with 1 Axes>",
      "image/png": "[encoded data removed]"
     },
     "metadata": {
      "needs_background": "light"
     },
     "output_type": "display_data"
    }
   ],
   "source": [
    "ax = results['Sentiment Analysis'].plot(\n",
    "    y=['Accuracy', 'SNAC'], kind='bar')\n",
    "plt.legend(loc='lower right')\n",
    "plt.xticks(rotation=45)\n",
    "ax.figure.savefig('output/sentiment_analysis_performance.pgf', bbox_inches='tight')"
   ],
   "metadata": {
    "collapsed": false,
    "pycharm": {
     "name": "#%%\n"
    }
   }
  },
  {
   "cell_type": "code",
   "execution_count": 86,
   "outputs": [],
   "source": [
    "DELTA_SIGN = '$\\Delta$'"
   ],
   "metadata": {
    "collapsed": false,
    "pycharm": {
     "name": "#%%\n"
    }
   }
  },
  {
   "cell_type": "code",
   "execution_count": 87,
   "outputs": [
    {
     "name": "stderr",
     "output_type": "stream",
     "text": [
      "C:\\Users\\MARIAN~1\\AppData\\Local\\Temp/ipykernel_5776/1577081960.py:6: SettingWithCopyWarning: \n",
      "A value is trying to be set on a copy of a slice from a DataFrame\n",
      "\n",
      "See the caveats in the documentation: https://pandas.pydata.org/pandas-docs/stable/user_guide/indexing.html#returning-a-view-versus-a-copy\n",
      "  result[column, DELTA_SIGN + ending]['Seed'] = None\n",
      "C:\\Users\\MARIAN~1\\AppData\\Local\\Temp/ipykernel_5776/1577081960.py:8: SettingWithCopyWarning: \n",
      "A value is trying to be set on a copy of a slice from a DataFrame\n",
      "\n",
      "See the caveats in the documentation: https://pandas.pydata.org/pandas-docs/stable/user_guide/indexing.html#returning-a-view-versus-a-copy\n",
      "  result[column, DELTA_SIGN + ' (\\%)']['Seed'] = None\n",
      "c:\\users\\marianlambert\\projects\\insynth\\venv\\lib\\site-packages\\pandas\\core\\indexing.py:1732: SettingWithCopyWarning: \n",
      "A value is trying to be set on a copy of a slice from a DataFrame\n",
      "\n",
      "See the caveats in the documentation: https://pandas.pydata.org/pandas-docs/stable/user_guide/indexing.html#returning-a-view-versus-a-copy\n",
      "  self._setitem_single_block(indexer, value, name)\n"
     ]
    }
   ],
   "source": [
    "for result in results.values():\n",
    "    for column in result:\n",
    "        ending = ' (\\%P)' if column != 'Top-k Neuron Patterns' else ''\n",
    "        result[column, '\\%' if column != 'Top-k Neuron Patterns' else ''] = result[column]\n",
    "        result[column, DELTA_SIGN + ending] = result[column] - result[column]['Seed']\n",
    "        result[column, DELTA_SIGN + ending]['Seed'] = None\n",
    "        result[column, DELTA_SIGN + ' (\\%)'] = result[column, DELTA_SIGN + ending] / result[column]['Seed']\n",
    "        result[column, DELTA_SIGN + ' (\\%)']['Seed'] = None\n",
    "        result.drop(columns=column, inplace=True)"
   ],
   "metadata": {
    "collapsed": false,
    "pycharm": {
     "name": "#%%\n"
    }
   }
  },
  {
   "cell_type": "code",
   "execution_count": 89,
   "outputs": [
    {
     "data": {
      "text/plain": "<Figure size 432x288 with 1 Axes>",
      "image/png": "[encoded data removed]"
     },
     "metadata": {
      "needs_background": "light"
     },
     "output_type": "display_data"
    }
   ],
   "source": [
    "rows = {\n",
    "    'XCeption': ('XCeption', ('Accuracy', '$\\Delta$ (\\%)')),\n",
    "    'InceptionResnet': ('InceptionResnet', ('Accuracy', '$\\Delta$ (\\%)')),\n",
    "    'MobileNetV2': ('MobileNetV2', ('Accuracy', '$\\Delta$ (\\%)')),\n",
    "    'Speaker Recognition': ('Speaker Recognition', ('Accuracy', '$\\Delta$ (\\%)')),\n",
    "    'Sentiment Analysis': ('Sentiment Analysis', ('Accuracy', '$\\Delta$ (\\%)'))\n",
    "}\n",
    "\n",
    "temp_df = pd.concat(results, axis=1).drop(['Seed', 'Combined'])\n",
    "temp_df = temp_df.filter(list(rows.values()))\n",
    "temp_df.columns = rows.keys()\n",
    "ax = temp_df.boxplot()\n",
    "plt.xticks(rotation=45)\n",
    "ax.figure.savefig('output/performance_change.pgf', bbox_inches='tight')"
   ],
   "metadata": {
    "collapsed": false,
    "pycharm": {
     "name": "#%%\n"
    }
   }
  },
  {
   "cell_type": "code",
   "execution_count": 118,
   "outputs": [
    {
     "data": {
      "text/plain": "<Figure size 921.6x252 with 1 Axes>",
      "image/png": "[encoded data removed]"
     },
     "metadata": {
      "needs_background": "light"
     },
     "output_type": "display_data"
    }
   ],
   "source": [
    "rows = {\n",
    "    'XCeption': ('Accuracy', '$\\Delta$ (\\%)'),\n",
    "    'InceptionResnet': ('Accuracy', '$\\Delta$ (\\%)'),\n",
    "    'MobileNetV2': ('Accuracy', '$\\Delta$ (\\%)'),\n",
    "    'Speaker Recognition': ('Accuracy', '$\\Delta$ (\\%)'),\n",
    "    'Sentiment Analysis': ('Accuracy', '$\\Delta$ (\\%)')\n",
    "}\n",
    "\n",
    "\n",
    "temp_df = pd.concat(results,axis=1).drop(['Seed', 'Combined'])\n",
    "temp_df.columns = temp_df.columns.droplevel(level=0)\n",
    "temp_df = temp_df[[('Accuracy', '$\\Delta$ (\\%)')]].transpose()\n",
    "temp_df.index = rows.keys()\n",
    "ax = temp_df.mean().plot(kind='bar',figsize=(6.4*2, 3.5))\n",
    "ax.figure.savefig('output/perturbator_performance_change.pgf', bbox_inches='tight')"
   ],
   "metadata": {
    "collapsed": false,
    "pycharm": {
     "name": "#%%\n"
    }
   }
  },
  {
   "cell_type": "code",
   "execution_count": null,
   "outputs": [],
   "source": [
    "rows = {\n",
    "    'XCeption': ('XCeption', ('SNAC', '$\\Delta$ (\\%)')),\n",
    "    'InceptionResnet': ('InceptionResnet', ('SNAC', '$\\Delta$ (\\%)')),\n",
    "    'MobileNetV2': ('MobileNetV2', ('SNAC', '$\\Delta$ (\\%)')),\n",
    "    'Speaker Recognition': ('Speaker Recognition', ('SNAC', '$\\Delta$ (\\%)')),\n",
    "    'Sentiment Analysis': ('Sentiment Analysis', ('SNAC', '$\\Delta$ (\\%)'))\n",
    "}\n",
    "\n",
    "temp_df = pd.concat(results, axis=1).drop(['Seed', 'Combined'])\n",
    "temp_df = temp_df.filter(list(rows.values()))\n",
    "temp_df.columns = rows.keys()\n",
    "ax = temp_df.boxplot()\n",
    "plt.xticks(rotation=45)\n",
    "plt.yscale('log')\n",
    "ax.figure.savefig('output/coverage_change.pgf', bbox_inches='tight')"
   ],
   "metadata": {
    "collapsed": false,
    "pycharm": {
     "name": "#%%\n"
    }
   }
  },
  {
   "cell_type": "code",
   "execution_count": null,
   "outputs": [],
   "source": [
    "for result in results.values():\n",
    "    result.columns = pd.MultiIndex.from_tuples(result.columns)"
   ],
   "metadata": {
    "collapsed": false,
    "pycharm": {
     "name": "#%%\n"
    }
   }
  },
  {
   "cell_type": "code",
   "execution_count": null,
   "outputs": [],
   "source": [
    "for key, result in results.items():\n",
    "    result.to_latex(buf=f'output/latex/short/{key}.tex', na_rep='---',\n",
    "                    float_format=lambda flt: '{:+.2f}'.format(flt * 100),\n",
    "                    caption=key, escape=False, label=key.lower(), bold_rows=True,\n",
    "                    columns=[('Accuracy', '\\%'), ('Accuracy', DELTA_SIGN + ' (\\%)'), ('NC', '\\%'),\n",
    "                             ('NC', DELTA_SIGN + ' (\\%)'), ('SNAC', '\\%'), ('SNAC', DELTA_SIGN + ' (\\%)'),\n",
    "                             ('KMNC', '\\%'), ('KMNC', DELTA_SIGN + ' (\\%)')], multicolumn_format='c')"
   ],
   "metadata": {
    "collapsed": false,
    "pycharm": {
     "name": "#%%\n"
    }
   }
  },
  {
   "cell_type": "code",
   "execution_count": null,
   "outputs": [],
   "source": [
    "for key, result in results.items():\n",
    "    num_columns_per_table = 6\n",
    "    columns_chunks = list((result.columns[i:i + num_columns_per_table] for i in\n",
    "                      range(0, len(result.columns), num_columns_per_table)))\n",
    "    with open(f'output/latex/long/{key.lower()}_exp2_long.tex', 'w') as file_out:\n",
    "        for index, chunk in enumerate(columns_chunks):\n",
    "            file_out.write(\n",
    "                result.to_latex(na_rep='---', float_format=lambda flt: '{:+.2f}'.format(flt * 100), escape=False,\n",
    "                                label='table:'+key.lower()+'_exp2' if index==0 else None, bold_rows=True, caption=key + (' (continued)' if index!=0 else ''),\n",
    "                                multicolumn_format='c',\n",
    "                                longtable=False, columns=chunk))\n",
    "            file_out.write('\\n')\n",
    "            if index!=len(columns_chunks)-1:\n",
    "                file_out.write('\\\\addtocounter{table}{-1}' + '\\n')\n"
   ],
   "metadata": {
    "collapsed": false,
    "pycharm": {
     "name": "#%%\n"
    }
   }
  },
  {
   "cell_type": "markdown",
   "source": [
    "# Sensitivity Results"
   ],
   "metadata": {
    "collapsed": false
   }
  },
  {
   "cell_type": "code",
   "execution_count": null,
   "outputs": [],
   "source": [
    "sensitivity_xception_results"
   ],
   "metadata": {
    "collapsed": false,
    "pycharm": {
     "name": "#%%\n"
    }
   }
  },
  {
   "cell_type": "code",
   "execution_count": null,
   "outputs": [],
   "source": [
    "import re\n",
    "\n",
    "sensitivity_results = {k: result.rename(index=lambda name: index_description_mapping[re.sub(r'\\d+_', '', name)]) for\n",
    "                       k, result in sensitivity_results.items()}"
   ],
   "metadata": {
    "collapsed": false,
    "pycharm": {
     "name": "#%%\n"
    }
   }
  },
  {
   "cell_type": "code",
   "execution_count": null,
   "outputs": [],
   "source": [
    "for result in sensitivity_results.values():\n",
    "    result.args = result.args.apply(\n",
    "        lambda args: re.findall(r'args\\': {\\'value\\': ([+-]?\\d+\\.?\\d*)', args)[0] if not isinstance(args,\n",
    "                                                                                                    float) else args).astype(\n",
    "        'float')"
   ],
   "metadata": {
    "collapsed": false,
    "pycharm": {
     "name": "#%%\n"
    }
   }
  },
  {
   "cell_type": "code",
   "execution_count": null,
   "outputs": [],
   "source": [
    "# fix problem in audio compression as high perturbation strength corresponded to high quality\n",
    "sensitivity_results['Speaker Recognition'].loc['Compression', 'args'] = sensitivity_results['Speaker Recognition'].loc[\n",
    "    'Compression', 'args'].apply(lambda x: 100 - x)"
   ],
   "metadata": {
    "collapsed": false,
    "pycharm": {
     "name": "#%%\n"
    }
   }
  },
  {
   "cell_type": "code",
   "execution_count": null,
   "outputs": [],
   "source": [
    "sensitivity_results = {k: result.rename(columns=column_description_mapping) for k, result in\n",
    "                       sensitivity_results.items()}"
   ],
   "metadata": {
    "collapsed": false,
    "pycharm": {
     "name": "#%%\n"
    }
   }
  },
  {
   "cell_type": "code",
   "execution_count": null,
   "outputs": [],
   "source": [
    "perturbator_parameter_mapping = {\n",
    "    'Noise': 'Noise Percentage',\n",
    "    'Brightness': 'Brightness Percentage',\n",
    "    'Contrast': 'Contrast Percentage',\n",
    "    'Sharpness': 'Sharpness Percentage',\n",
    "    'Occlusion': 'Occlusion Percentage',\n",
    "    'Compression': 'Compression Percentage',\n",
    "    'Pixelize': 'Pixelize Percentage',\n",
    "    'White Noise': 'White Noise Percentage',\n",
    "    'Pitch': 'Pitch Change (semitones)',\n",
    "    'Clipping': 'Clipping Strength (percentile)',\n",
    "    'Volume': 'Volume Change (decibel)',\n",
    "    'Echo': 'Echo Strength (seconds)',\n",
    "    'Typo': 'Typo Probability',\n",
    "    'Case': 'Case Switch Probability',\n",
    "    'Word Removal': 'Word Removal Probability',\n",
    "    'Stopword Removal': 'Stopword Removal Probability',\n",
    "    'Word Switch': 'Word Switch Probability',\n",
    "    'Character Switch': 'Character Switch Probability',\n",
    "    'Punctuation Error': 'Punctuation Error Probability',\n",
    "}"
   ],
   "metadata": {
    "collapsed": false,
    "pycharm": {
     "name": "#%%\n"
    }
   }
  },
  {
   "cell_type": "code",
   "execution_count": null,
   "outputs": [],
   "source": [
    "import matplotlib.pyplot as plt\n",
    "\n",
    "temp_results = {'XCeption': sensitivity_results['XCeption'], 'InceptionResnet': sensitivity_results['InceptionResnet'],\n",
    "                'MobileNetV2': sensitivity_results['MobileNetV2']}\n",
    "\n",
    "temp_df = pd.concat(temp_results, axis=1).drop(['Seed', 'Combined'])\n",
    "fig, axes = plt.subplots(nrows=4, ncols=2, figsize=(4.8 * 2, 15))\n",
    "fig.delaxes(axes[3, 1])\n",
    "for index, perturbator in enumerate(list(dict.fromkeys(temp_df.index))):\n",
    "    temp_df.loc[perturbator].plot(kind='line', y=[('XCeption', 'F1 (Macro)'), ('InceptionResnet', 'F1 (Macro)'),\n",
    "                                                  ('MobileNetV2', 'F1 (Macro)')], x=('XCeption', 'Parameter'),\n",
    "                                  xlabel=perturbator_parameter_mapping[perturbator], ylabel='F1 (Macro)', ylim=(0, 1),\n",
    "                                  ax=axes[int(index / 2), index % 2], sharey=True)\n",
    "    axes[int(index / 2), index % 2].legend(temp_results.keys())\n",
    "fig.savefig(f'output/imagenet_relationship.pgf', bbox_inches='tight')"
   ],
   "metadata": {
    "collapsed": false,
    "pycharm": {
     "name": "#%%\n"
    }
   }
  },
  {
   "cell_type": "code",
   "execution_count": null,
   "outputs": [],
   "source": [
    "fig, axes = plt.subplots(nrows=4, ncols=2, figsize=(4.8 * 2, 15))\n",
    "for result_index, (name, result) in enumerate([(name, result) for name, result in sensitivity_results.items() if\n",
    "                                               name not in ['XCeption', 'MobileNetV2', 'InceptionResnet',\n",
    "                                                            'Stopword Removal']]):\n",
    "    indices = list(\n",
    "        dict.fromkeys(index for index in result.index if index not in ['Seed', 'Combined', 'Stopword Removal']))\n",
    "    for perturbator_index, perturbator in enumerate(indices[:-2]):\n",
    "        result.loc[perturbator].plot(x='Parameter', y='F1 (Macro)',\n",
    "                                     ylim=(0.0, 1.0), kind='line', ylabel='F1 (Macro)',\n",
    "                                     xlabel=perturbator_parameter_mapping[perturbator],\n",
    "                                     ax=axes[perturbator_index, result_index], legend=False, sharey=True)\n",
    "fig.savefig(f'output/speaker_sentiment_relationship_1.pgf', bbox_inches='tight')"
   ],
   "metadata": {
    "collapsed": false,
    "pycharm": {
     "name": "#%%\n"
    }
   }
  },
  {
   "cell_type": "code",
   "execution_count": null,
   "outputs": [],
   "source": [
    "fig, axes = plt.subplots(nrows=2, ncols=2, figsize=(4.8 * 2, 7.5))\n",
    "for result_index, (name, result) in enumerate([(name, result) for name, result in sensitivity_results.items() if\n",
    "                                               name not in ['XCeption', 'MobileNetV2', 'InceptionResnet',\n",
    "                                                            'Stopword Removal']]):\n",
    "    indices = list(\n",
    "        dict.fromkeys(index for index in result.index if index not in ['Seed', 'Combined', 'Stopword Removal']))\n",
    "    for perturbator_index, perturbator in enumerate(indices[-2:]):\n",
    "        result.loc[perturbator].plot(x='Parameter', y='F1 (Macro)',\n",
    "                                     ylim=(0.0, 1.0), kind='line', ylabel='F1 (Macro)',\n",
    "                                     xlabel=perturbator_parameter_mapping[perturbator],\n",
    "                                     ax=axes[perturbator_index, result_index], legend=False, sharey=True)\n",
    "fig.savefig(f'output/speaker_sentiment_relationship_2.pgf', bbox_inches='tight')"
   ],
   "metadata": {
    "collapsed": false,
    "pycharm": {
     "name": "#%%\n"
    }
   }
  },
  {
   "cell_type": "code",
   "execution_count": null,
   "outputs": [],
   "source": [
    "for key, result in sensitivity_results.items():\n",
    "    num_columns_per_table = 4\n",
    "    columns_chunks = list((result.columns[i:i + num_columns_per_table] for i in\n",
    "                           range(0, len(result.columns), num_columns_per_table)))\n",
    "    with open(f'output/latex/long/{key.lower()}_exp3_long.tex', 'w') as file_out:\n",
    "        for index, chunk in enumerate(columns_chunks):\n",
    "            file_out.write(\n",
    "                result.to_latex(na_rep='---', float_format='{:+.4f}'.format, escape=False,\n",
    "                                label='table:'+key.lower()+'_exp3' if index==0 else None, bold_rows=True, caption=key + (' (continued)' if index!=0 else ''),\n",
    "                                multicolumn_format='c',\n",
    "                                longtable=True, columns=chunk))\n",
    "            file_out.write('\\n')\n",
    "            if index!=len(columns_chunks)-1:\n",
    "                file_out.write('\\\\addtocounter{table}{-1}' + '\\n')"
   ],
   "metadata": {
    "collapsed": false,
    "pycharm": {
     "name": "#%%\n"
    }
   }
  },
  {
   "cell_type": "markdown",
   "source": [
    "# Performance"
   ],
   "metadata": {
    "collapsed": false,
    "pycharm": {
     "name": "#%% md\n"
    }
   }
  },
  {
   "cell_type": "code",
   "execution_count": null,
   "outputs": [],
   "source": [
    "performance_results.plot(kind='bar', y=['old', 'new'])"
   ],
   "metadata": {
    "collapsed": false,
    "pycharm": {
     "name": "#%%\n"
    }
   }
  },
  {
   "cell_type": "code",
   "execution_count": null,
   "outputs": [],
   "source": [],
   "metadata": {
    "collapsed": false,
    "pycharm": {
     "name": "#%%\n"
    }
   }
  }
 ],
 "metadata": {
  "kernelspec": {
   "display_name": "Python 3",
   "language": "python",
   "name": "python3"
  },
  "language_info": {
   "codemirror_mode": {
    "name": "ipython",
    "version": 2
   },
   "file_extension": ".py",
   "mimetype": "text/x-python",
   "name": "python",
   "nbconvert_exporter": "python",
   "pygments_lexer": "ipython2",
   "version": "2.7.6"
  }
 },
 "nbformat": 4,
 "nbformat_minor": 0
}