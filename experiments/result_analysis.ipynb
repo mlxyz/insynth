{
 "cells": [
  {
   "cell_type": "code",
   "execution_count": 761,
   "outputs": [],
   "source": [
    "import ast\n",
    "import os.path\n",
    "\n",
    "import pandas as pd"
   ],
   "metadata": {
    "collapsed": false,
    "pycharm": {
     "name": "#%%\n"
    }
   }
  },
  {
   "cell_type": "code",
   "execution_count": 762,
   "outputs": [],
   "source": [
    "EXPERIMENT_RESULT_DIR = \"C:\\\\Users\\\\MarianLambert\\\\OneDrive - mail.uni-mannheim.de\\\\02 - Studium\\\\04 - Semester 4\\\\Thesis\\\\Ergebnisse\\\\\""
   ],
   "metadata": {
    "collapsed": false,
    "pycharm": {
     "name": "#%%\n"
    }
   }
  },
  {
   "cell_type": "code",
   "execution_count": 763,
   "outputs": [],
   "source": [
    "xception_results = pd.read_csv(os.path.join(EXPERIMENT_RESULT_DIR, 'imagenet', 'xception', 'report.csv'), index_col=0)\n",
    "mobilenetv2_results = pd.read_csv(os.path.join(EXPERIMENT_RESULT_DIR, 'imagenet', 'mobilenetv2', 'report.csv'),\n",
    "                                  index_col=0)\n",
    "speaker_recognition = pd.read_csv(os.path.join(EXPERIMENT_RESULT_DIR, 'speaker_recognition', 'report.csv'),\n",
    "                                  index_col=0)\n",
    "sentiment_analysis = pd.read_csv(os.path.join(EXPERIMENT_RESULT_DIR, 'sentiment_analysis', 'report.csv'),\n",
    "                                  index_col=0)"
   ],
   "metadata": {
    "collapsed": false,
    "pycharm": {
     "name": "#%%\n"
    }
   }
  },
  {
   "cell_type": "markdown",
   "source": [],
   "metadata": {
    "collapsed": false,
    "pycharm": {
     "name": "#%% md\n"
    }
   }
  },
  {
   "cell_type": "code",
   "execution_count": 764,
   "outputs": [],
   "source": [
    "results = {'MobileNetV2': mobilenetv2_results, 'XCeption': xception_results, 'Speaker Recognition': speaker_recognition, 'Sentiment Analysis':sentiment_analysis}"
   ],
   "metadata": {
    "collapsed": false,
    "pycharm": {
     "name": "#%%\n"
    }
   }
  },
  {
   "cell_type": "code",
   "execution_count": 765,
   "outputs": [],
   "source": [
    "coverage_to_metric_mapping= {\n",
    "    'NeuronCoverageCalculator':'covered_neurons_percentage',\n",
    "    'StrongNeuronActivationCoverageCalculator':'covered_neurons_percentage',\n",
    "    'KMultiSectionNeuronCoverageCalculator': 'covered_neurons_percentage',\n",
    "    'NeuronBoundaryCoverageCalculator': 'covered_neurons_percentage',\n",
    "    'TopKNeuronCoverageCalculator': 'top_k_neuron_coverage_percentage',\n",
    "    'TopKNeuronPatternsCalculator': 'total_patterns'\n",
    "}"
   ],
   "metadata": {
    "collapsed": false,
    "pycharm": {
     "name": "#%%\n"
    }
   }
  },
  {
   "cell_type": "code",
   "execution_count": 766,
   "outputs": [],
   "source": [
    "for calculator, key in coverage_to_metric_mapping.items():\n",
    "    for result in results.values():\n",
    "        if calculator in result.columns:\n",
    "            result[calculator] = result[calculator].map(lambda entry: ast.literal_eval(entry)[key])"
   ],
   "metadata": {
    "collapsed": false,
    "pycharm": {
     "name": "#%%\n"
    }
   }
  },
  {
   "cell_type": "code",
   "execution_count": 767,
   "outputs": [
    {
     "data": {
      "text/plain": "                                           acc  macro_f1  macro_rec  \\\nOriginal                              0.997333  0.997372   0.997394   \nAudioBackgroundWhiteNoisePerturbator  0.709333  0.702960   0.705200   \nAudioCompressionPerturbator           0.949333  0.949404   0.949954   \nAudioPitchPerturbator                 0.513333  0.500054   0.515217   \nAudioClippingPerturbator              0.845333  0.846043   0.843305   \nAudioVolumePerturbator                0.884000  0.884544   0.884518   \nAudioEchoPerturbator                  0.929333  0.930652   0.929601   \nAudioShortNoisePerturbator            0.962667  0.962557   0.962631   \nAudioBackgroundNoisePerturbator       0.892000  0.891138   0.891579   \nAudioImpulseResponsePerturbator       0.545333  0.516382   0.550872   \nAll                                   0.822800  0.818110   0.823027   \n\n                                      macro_prec  micro_f1  micro_rec  \\\nOriginal                                0.997367  0.997333   0.997333   \nAudioBackgroundWhiteNoisePerturbator    0.829165  0.703356   0.709333   \nAudioCompressionPerturbator             0.952896  0.949109   0.949333   \nAudioPitchPerturbator                   0.583481  0.498310   0.513333   \nAudioClippingPerturbator                0.871411  0.845446   0.845333   \nAudioVolumePerturbator                  0.890419  0.884568   0.884000   \nAudioEchoPerturbator                    0.941466  0.930144   0.929333   \nAudioShortNoisePerturbator              0.962948  0.962672   0.962667   \nAudioBackgroundNoisePerturbator         0.896105  0.891139   0.892000   \nAudioImpulseResponsePerturbator         0.636680  0.514277   0.545333   \nAll                                     0.856194  0.817636   0.822800   \n\n                                      micro_prec  NeuronCoverageCalculator  \\\nOriginal                                0.997351                  0.831963   \nAudioBackgroundWhiteNoisePerturbator    0.825236                  0.848537   \nAudioCompressionPerturbator             0.953001                  0.839083   \nAudioPitchPerturbator                   0.584483                  0.850331   \nAudioClippingPerturbator                0.868098                  0.849810   \nAudioVolumePerturbator                  0.890964                  0.846032   \nAudioEchoPerturbator                    0.940802                  0.869467   \nAudioShortNoisePerturbator              0.963155                  0.836032   \nAudioBackgroundNoisePerturbator         0.895704                  0.840825   \nAudioImpulseResponsePerturbator         0.640312                  0.864402   \nAll                                     0.855911                  0.894239   \n\n                                      StrongNeuronActivationCoverageCalculator  \\\nOriginal                                                              0.109368   \nAudioBackgroundWhiteNoisePerturbator                                  0.267016   \nAudioCompressionPerturbator                                           0.165557   \nAudioPitchPerturbator                                                 0.285738   \nAudioClippingPerturbator                                              0.178711   \nAudioVolumePerturbator                                                0.696645   \nAudioEchoPerturbator                                                  0.694001   \nAudioShortNoisePerturbator                                            0.176213   \nAudioBackgroundNoisePerturbator                                       0.177208   \nAudioImpulseResponsePerturbator                                       0.209578   \nAll                                                                   0.870125   \n\n                                      KMultiSectionNeuronCoverageCalculator  \\\nOriginal                                                           0.681518   \nAudioBackgroundWhiteNoisePerturbator                               0.775053   \nAudioCompressionPerturbator                                        0.699552   \nAudioPitchPerturbator                                              0.761872   \nAudioClippingPerturbator                                           0.701863   \nAudioVolumePerturbator                                             0.869248   \nAudioEchoPerturbator                                               0.892421   \nAudioShortNoisePerturbator                                         0.726440   \nAudioBackgroundNoisePerturbator                                    0.743716   \nAudioImpulseResponsePerturbator                                    0.703045   \nAll                                                                0.919090   \n\n                                      NeuronBoundaryCoverageCalculator  \\\nOriginal                                                      0.008535   \nAudioBackgroundWhiteNoisePerturbator                          0.066234   \nAudioCompressionPerturbator                                   0.019636   \nAudioPitchPerturbator                                         0.074378   \nAudioClippingPerturbator                                      0.029941   \nAudioVolumePerturbator                                        0.354577   \nAudioEchoPerturbator                                          0.338296   \nAudioShortNoisePerturbator                                    0.024599   \nAudioBackgroundNoisePerturbator                               0.025802   \nAudioImpulseResponsePerturbator                               0.025926   \nAll                                                           0.520548   \n\n                                      TopKNeuronCoverageCalculator  \\\nOriginal                                                  0.004818   \nAudioBackgroundWhiteNoisePerturbator                      0.005168   \nAudioCompressionPerturbator                               0.005107   \nAudioPitchPerturbator                                     0.009012   \nAudioClippingPerturbator                                  0.005478   \nAudioVolumePerturbator                                    0.005007   \nAudioEchoPerturbator                                      0.006748   \nAudioShortNoisePerturbator                                0.005193   \nAudioBackgroundNoisePerturbator                           0.005692   \nAudioImpulseResponsePerturbator                           0.006985   \nAll                                                       0.012764   \n\n                                      TopKNeuronPatternsCalculator  \nOriginal                                                       750  \nAudioBackgroundWhiteNoisePerturbator                          1362  \nAudioCompressionPerturbator                                   1481  \nAudioPitchPerturbator                                         1420  \nAudioClippingPerturbator                                      1298  \nAudioVolumePerturbator                                        1426  \nAudioEchoPerturbator                                          1500  \nAudioShortNoisePerturbator                                     943  \nAudioBackgroundNoisePerturbator                               1394  \nAudioImpulseResponsePerturbator                               1500  \nAll                                                           6310  ",
      "text/html": "<div>\n<style scoped>\n    .dataframe tbody tr th:only-of-type {\n        vertical-align: middle;\n    }\n\n    .dataframe tbody tr th {\n        vertical-align: top;\n    }\n\n    .dataframe thead th {\n        text-align: right;\n    }\n</style>\n<table border=\"1\" class=\"dataframe\">\n  <thead>\n    <tr style=\"text-align: right;\">\n      <th></th>\n      <th>acc</th>\n      <th>macro_f1</th>\n      <th>macro_rec</th>\n      <th>macro_prec</th>\n      <th>micro_f1</th>\n      <th>micro_rec</th>\n      <th>micro_prec</th>\n      <th>NeuronCoverageCalculator</th>\n      <th>StrongNeuronActivationCoverageCalculator</th>\n      <th>KMultiSectionNeuronCoverageCalculator</th>\n      <th>NeuronBoundaryCoverageCalculator</th>\n      <th>TopKNeuronCoverageCalculator</th>\n      <th>TopKNeuronPatternsCalculator</th>\n    </tr>\n  </thead>\n  <tbody>\n    <tr>\n      <th>Original</th>\n      <td>0.997333</td>\n      <td>0.997372</td>\n      <td>0.997394</td>\n      <td>0.997367</td>\n      <td>0.997333</td>\n      <td>0.997333</td>\n      <td>0.997351</td>\n      <td>0.831963</td>\n      <td>0.109368</td>\n      <td>0.681518</td>\n      <td>0.008535</td>\n      <td>0.004818</td>\n      <td>750</td>\n    </tr>\n    <tr>\n      <th>AudioBackgroundWhiteNoisePerturbator</th>\n      <td>0.709333</td>\n      <td>0.702960</td>\n      <td>0.705200</td>\n      <td>0.829165</td>\n      <td>0.703356</td>\n      <td>0.709333</td>\n      <td>0.825236</td>\n      <td>0.848537</td>\n      <td>0.267016</td>\n      <td>0.775053</td>\n      <td>0.066234</td>\n      <td>0.005168</td>\n      <td>1362</td>\n    </tr>\n    <tr>\n      <th>AudioCompressionPerturbator</th>\n      <td>0.949333</td>\n      <td>0.949404</td>\n      <td>0.949954</td>\n      <td>0.952896</td>\n      <td>0.949109</td>\n      <td>0.949333</td>\n      <td>0.953001</td>\n      <td>0.839083</td>\n      <td>0.165557</td>\n      <td>0.699552</td>\n      <td>0.019636</td>\n      <td>0.005107</td>\n      <td>1481</td>\n    </tr>\n    <tr>\n      <th>AudioPitchPerturbator</th>\n      <td>0.513333</td>\n      <td>0.500054</td>\n      <td>0.515217</td>\n      <td>0.583481</td>\n      <td>0.498310</td>\n      <td>0.513333</td>\n      <td>0.584483</td>\n      <td>0.850331</td>\n      <td>0.285738</td>\n      <td>0.761872</td>\n      <td>0.074378</td>\n      <td>0.009012</td>\n      <td>1420</td>\n    </tr>\n    <tr>\n      <th>AudioClippingPerturbator</th>\n      <td>0.845333</td>\n      <td>0.846043</td>\n      <td>0.843305</td>\n      <td>0.871411</td>\n      <td>0.845446</td>\n      <td>0.845333</td>\n      <td>0.868098</td>\n      <td>0.849810</td>\n      <td>0.178711</td>\n      <td>0.701863</td>\n      <td>0.029941</td>\n      <td>0.005478</td>\n      <td>1298</td>\n    </tr>\n    <tr>\n      <th>AudioVolumePerturbator</th>\n      <td>0.884000</td>\n      <td>0.884544</td>\n      <td>0.884518</td>\n      <td>0.890419</td>\n      <td>0.884568</td>\n      <td>0.884000</td>\n      <td>0.890964</td>\n      <td>0.846032</td>\n      <td>0.696645</td>\n      <td>0.869248</td>\n      <td>0.354577</td>\n      <td>0.005007</td>\n      <td>1426</td>\n    </tr>\n    <tr>\n      <th>AudioEchoPerturbator</th>\n      <td>0.929333</td>\n      <td>0.930652</td>\n      <td>0.929601</td>\n      <td>0.941466</td>\n      <td>0.930144</td>\n      <td>0.929333</td>\n      <td>0.940802</td>\n      <td>0.869467</td>\n      <td>0.694001</td>\n      <td>0.892421</td>\n      <td>0.338296</td>\n      <td>0.006748</td>\n      <td>1500</td>\n    </tr>\n    <tr>\n      <th>AudioShortNoisePerturbator</th>\n      <td>0.962667</td>\n      <td>0.962557</td>\n      <td>0.962631</td>\n      <td>0.962948</td>\n      <td>0.962672</td>\n      <td>0.962667</td>\n      <td>0.963155</td>\n      <td>0.836032</td>\n      <td>0.176213</td>\n      <td>0.726440</td>\n      <td>0.024599</td>\n      <td>0.005193</td>\n      <td>943</td>\n    </tr>\n    <tr>\n      <th>AudioBackgroundNoisePerturbator</th>\n      <td>0.892000</td>\n      <td>0.891138</td>\n      <td>0.891579</td>\n      <td>0.896105</td>\n      <td>0.891139</td>\n      <td>0.892000</td>\n      <td>0.895704</td>\n      <td>0.840825</td>\n      <td>0.177208</td>\n      <td>0.743716</td>\n      <td>0.025802</td>\n      <td>0.005692</td>\n      <td>1394</td>\n    </tr>\n    <tr>\n      <th>AudioImpulseResponsePerturbator</th>\n      <td>0.545333</td>\n      <td>0.516382</td>\n      <td>0.550872</td>\n      <td>0.636680</td>\n      <td>0.514277</td>\n      <td>0.545333</td>\n      <td>0.640312</td>\n      <td>0.864402</td>\n      <td>0.209578</td>\n      <td>0.703045</td>\n      <td>0.025926</td>\n      <td>0.006985</td>\n      <td>1500</td>\n    </tr>\n    <tr>\n      <th>All</th>\n      <td>0.822800</td>\n      <td>0.818110</td>\n      <td>0.823027</td>\n      <td>0.856194</td>\n      <td>0.817636</td>\n      <td>0.822800</td>\n      <td>0.855911</td>\n      <td>0.894239</td>\n      <td>0.870125</td>\n      <td>0.919090</td>\n      <td>0.520548</td>\n      <td>0.012764</td>\n      <td>6310</td>\n    </tr>\n  </tbody>\n</table>\n</div>"
     },
     "execution_count": 767,
     "metadata": {},
     "output_type": "execute_result"
    }
   ],
   "source": [
    "results['Speaker Recognition']"
   ],
   "metadata": {
    "collapsed": false,
    "pycharm": {
     "name": "#%%\n"
    }
   }
  },
  {
   "cell_type": "code",
   "execution_count": 768,
   "outputs": [],
   "source": [
    "index_description_mapping = {\n",
    "    'Original': 'Seed',\n",
    "    'ImageNoisePerturbator': 'Noise',\n",
    "    'ImageBrightnessPerturbator': 'Brightness',\n",
    "    'ImageContrastPerturbator': 'Contrast',\n",
    "    'ImageSharpnessPerturbator': 'Sharpness',\n",
    "    'ImageFlipPerturbator': 'Flip',\n",
    "    'ImageOcclusionPerturbator': 'Occlusion',\n",
    "    'ImageCompressionPerturbator': 'Compression',\n",
    "    'ImagePixelizePerturbator': 'Pixelize',\n",
    "    'TextTypoPerturbator': 'Typo',\n",
    "    'TextCasePerturbator': 'Case',\n",
    "    'TextWordRemovalPerturbator': 'Word Removal',\n",
    "    'TextStopWordRemovalPerturbator': 'Stopword Removal',\n",
    "    'TextWordSwitchPerturbator': 'Word Switch',\n",
    "    'TextCharacterSwitchPerturbator': 'Character Switch',\n",
    "    'TextPunctuationErrorPerturbator': 'Punctuation Error',\n",
    "    'AudioBackgroundWhiteNoisePerturbator': 'White Noise',\n",
    "    'AudioCompressionPerturbator': 'Compression',\n",
    "    'AudioPitchPerturbator': 'Pitch',\n",
    "    'AudioClippingPerturbator': 'Clipping',\n",
    "    'AudioVolumePerturbator': 'Volume',\n",
    "    'AudioEchoPerturbator': 'Echo',\n",
    "    'AudioShortNoisePerturbator': 'Short Noise',\n",
    "    'AudioBackgroundNoisePerturbator': 'Background Noise',\n",
    "    'AudioImpulseResponsePerturbator': 'Impulse Response',\n",
    "    'All': 'Combined'\n",
    "}"
   ],
   "metadata": {
    "collapsed": false,
    "pycharm": {
     "name": "#%%\n"
    }
   }
  },
  {
   "cell_type": "code",
   "execution_count": 769,
   "outputs": [],
   "source": [
    "results = {k:result.rename(index=index_description_mapping) for k, result in results.items()}"
   ],
   "metadata": {
    "collapsed": false,
    "pycharm": {
     "name": "#%%\n"
    }
   }
  },
  {
   "cell_type": "code",
   "execution_count": 770,
   "outputs": [],
   "source": [
    "column_description_mapping = {\n",
    "    'acc': 'Accuracy',\n",
    "    'macro_f1': 'F1 (Macro)',\n",
    "    'macro_rec': 'Recall (Macro)',\n",
    "    'macro_prec': 'Precision (Macro)',\n",
    "    'micro_f1': 'F1 (Micro)',\n",
    "    'micro_rec': 'Recall (Micro)',\n",
    "    'micro_prec': 'Precision (Micro)',\n",
    "    'NeuronCoverageCalculator':'NC',\n",
    "    'StrongNeuronActivationCoverageCalculator':'SNAC',\n",
    "    'KMultiSectionNeuronCoverageCalculator': 'KMNC',\n",
    "    'NeuronBoundaryCoverageCalculator': 'NBC',\n",
    "    'TopKNeuronCoverageCalculator': 'TKNC',\n",
    "    'TopKNeuronPatternsCalculator': 'TKNP'\n",
    "}"
   ],
   "metadata": {
    "collapsed": false,
    "pycharm": {
     "name": "#%%\n"
    }
   }
  },
  {
   "cell_type": "code",
   "execution_count": 771,
   "outputs": [],
   "source": [
    "results = {k:result.rename(columns=column_description_mapping) for k, result in results.items()}"
   ],
   "metadata": {
    "collapsed": false,
    "pycharm": {
     "name": "#%%\n"
    }
   }
  },
  {
   "cell_type": "code",
   "execution_count": 772,
   "outputs": [],
   "source": [
    "DELTA_SIGN = '$\\Delta$'"
   ],
   "metadata": {
    "collapsed": false,
    "pycharm": {
     "name": "#%%\n"
    }
   }
  },
  {
   "cell_type": "code",
   "execution_count": 773,
   "outputs": [
    {
     "name": "stderr",
     "output_type": "stream",
     "text": [
      "C:\\Users\\MARIAN~1\\AppData\\Local\\Temp/ipykernel_24476/3508170211.py:6: SettingWithCopyWarning: \n",
      "A value is trying to be set on a copy of a slice from a DataFrame\n",
      "\n",
      "See the caveats in the documentation: https://pandas.pydata.org/pandas-docs/stable/user_guide/indexing.html#returning-a-view-versus-a-copy\n",
      "  result[column, DELTA_SIGN + ending]['Seed'] = None\n",
      "C:\\Users\\MARIAN~1\\AppData\\Local\\Temp/ipykernel_24476/3508170211.py:8: SettingWithCopyWarning: \n",
      "A value is trying to be set on a copy of a slice from a DataFrame\n",
      "\n",
      "See the caveats in the documentation: https://pandas.pydata.org/pandas-docs/stable/user_guide/indexing.html#returning-a-view-versus-a-copy\n",
      "  result[column, DELTA_SIGN+' (\\%)']['Seed'] = None\n",
      "c:\\users\\marianlambert\\projects\\insynth\\venv\\lib\\site-packages\\pandas\\core\\indexing.py:1732: SettingWithCopyWarning: \n",
      "A value is trying to be set on a copy of a slice from a DataFrame\n",
      "\n",
      "See the caveats in the documentation: https://pandas.pydata.org/pandas-docs/stable/user_guide/indexing.html#returning-a-view-versus-a-copy\n",
      "  self._setitem_single_block(indexer, value, name)\n"
     ]
    }
   ],
   "source": [
    "for result in results.values():\n",
    "    for column in result:\n",
    "        ending = ' (\\%P)' if column!='Top-k Neuron Patterns' else ''\n",
    "        result[column, '\\%' if column!='Top-k Neuron Patterns' else ''] = result[column]\n",
    "        result[column, DELTA_SIGN + ending] = result[column]-result[column]['Seed']\n",
    "        result[column, DELTA_SIGN + ending]['Seed'] = None\n",
    "        result[column, DELTA_SIGN+' (\\%)'] = result[column, DELTA_SIGN + ending]/result[column]['Seed']\n",
    "        result[column, DELTA_SIGN+' (\\%)']['Seed'] = None\n",
    "        result.drop(columns=column, inplace=True)"
   ],
   "metadata": {
    "collapsed": false,
    "pycharm": {
     "name": "#%%\n"
    }
   }
  },
  {
   "cell_type": "code",
   "source": [
    "for result in results.values():\n",
    "    result.columns = pd.MultiIndex.from_tuples(result.columns)"
   ],
   "metadata": {
    "collapsed": false,
    "pycharm": {
     "name": "#%%\n"
    }
   },
   "execution_count": 774,
   "outputs": []
  },
  {
   "cell_type": "code",
   "execution_count": 775,
   "outputs": [],
   "source": [
    "results['Speaker Recognition'].to_latex(buf='out.txt',na_rep='---', float_format=lambda flt: '{:.2f}'.format(flt*100), caption=('Results of the MobileNetV2 model on the ImageNetV2 Dataset', 'MobileNetV2'), escape=False, label='mobilenetv2', bold_rows=True, columns=[('Accuracy','\\%'), ('Accuracy', DELTA_SIGN+' (\\%)'), ('NC','\\%'),('NC',DELTA_SIGN+' (\\%)'), ('SNAC', '\\%'),('SNAC', DELTA_SIGN+' (\\%)'), ('KMNC', '\\%'), ('KMNC', DELTA_SIGN+' (\\%)')], multicolumn_format='c')"
   ],
   "metadata": {
    "collapsed": false,
    "pycharm": {
     "name": "#%%\n"
    }
   }
  }
 ],
 "metadata": {
  "kernelspec": {
   "display_name": "Python 3",
   "language": "python",
   "name": "python3"
  },
  "language_info": {
   "codemirror_mode": {
    "name": "ipython",
    "version": 2
   },
   "file_extension": ".py",
   "mimetype": "text/x-python",
   "name": "python",
   "nbconvert_exporter": "python",
   "pygments_lexer": "ipython2",
   "version": "2.7.6"
  }
 },
 "nbformat": 4,
 "nbformat_minor": 0
}